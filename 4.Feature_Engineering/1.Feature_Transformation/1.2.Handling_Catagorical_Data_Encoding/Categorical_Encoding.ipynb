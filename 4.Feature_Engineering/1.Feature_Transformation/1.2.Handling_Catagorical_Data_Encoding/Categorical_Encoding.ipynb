{
 "cells": [
  {
   "cell_type": "markdown",
   "metadata": {},
   "source": [
    "<h1 style=\"color:cyan; text-align:center; font-size:250%; font-weight:bold;\">\n",
    "Handling Categorical Data</h1>\n",
    "\n",
    "<h2 style=\"color: lavender; text-align:left; font-size:130%; font-weight:bold;\">\n",
    "List of the Content:\n",
    "</h2>\n",
    "        <ol style=\"font-size:120%;\">\n",
    "            <li>Ordinal Encoding</li>\n",
    "            <li>One Hot Encoding</li>\n",
    "        </ol>"
   ]
  },
  {
   "cell_type": "markdown",
   "metadata": {},
   "source": [
    "<h2 style=\"color:gold; text-align:left; font-size:200%; font-weight:bold;\">\n",
    "1.Ordinal Encoding </h2>"
   ]
  },
  {
   "cell_type": "code",
   "execution_count": null,
   "metadata": {},
   "outputs": [],
   "source": [
    "import pandas as pd \n",
    "import numpy as np\n",
    "df=pd.read_csv(\"Customer Purchase.csv\")\n",
    "# df.sample(5)\n",
    "df=df.iloc[:, 3:]\n",
    "df.sample(5)\n",
    "\n",
    "#TRAIN TEST SPLIT \n",
    "from sklearn.model_selection import train_test_split\n",
    "x_train, x_test, y_train, y_test =train_test_split(\n",
    "    df.iloc[:, :2], df.iloc[:, -1], \n",
    "    test_size=0.3,\n",
    "    random_state=0)\n",
    "print(x_train.shape, x_test.shape)\n",
    "\n",
    "#ENCODING INPUT COLUMNS\n",
    "from sklearn.preprocessing import OrdinalEncoder\n",
    "oe=OrdinalEncoder(categories=[['School', 'UG', 'PG'], [ 'Poor','Average', 'Good']]) #telling the order of ordinal data \n",
    "#fit the ordinal encoder to the train set\n",
    "oe.fit(x_train) #fitting meaning assigning the numerical data instead of ordinal \n",
    "\n",
    "#Transform the x_train and x_test \n",
    "x_train_encoded=oe.transform(x_train)\n",
    "x_test_encoded=oe.transform(x_test)\n",
    "# print(x_train_encoded)\n",
    "\n",
    "#ENCODING OUTPUT COLUMNS\n",
    "from sklearn.preprocessing import LabelEncoder\n",
    "le=LabelEncoder()\n",
    "#Fiting the label encoder \n",
    "le.fit(y_train)\n",
    "#transform\n",
    "y_train_labelencoded=le.transform(y_train)\n",
    "y_test_labelencoded=le.transform(y_test)\n",
    "# print(y_test_labelencoded)"
   ]
  },
  {
   "cell_type": "markdown",
   "metadata": {},
   "source": [
    "<h2 style=\"color:gold; text-align:left; font-size:200%; font-weight:bold;\">\n",
    "1.1.A) One Hot Encoding(OHE)</h2>"
   ]
  },
  {
   "cell_type": "code",
   "execution_count": null,
   "metadata": {},
   "outputs": [],
   "source": [
    "import pandas as pd\n",
    "import numpy as np \n",
    "from sklearn.model_selection import train_test_split\n",
    "from sklearn.preprocessing import OneHotEncoder\n",
    "\n",
    "# Load dataset and select relevant columns\n",
    "df = pd.read_csv('car_details.csv')\n",
    "df = df[['name', 'km_driven', 'fuel', 'owner', 'selling_price']]\n",
    "df.sample(5)\n",
    "\n",
    "# TRAIN TEST SPLIT \n",
    "x_train, x_test, y_train, y_test = train_test_split(\n",
    "    df.iloc[:, 0:4], df.iloc[:, -1], test_size=0.2, random_state=0)\n",
    "\n",
    "#ONEHOTENCODER\n",
    "ohe = OneHotEncoder(sparse_output=False, handle_unknown='ignore')  # use 'sparse_output' instead of 'sparse'\n",
    "\n",
    "# Fit the encoder on the categorical columns of training data\n",
    "x_train_categorical = ohe.fit_transform(x_train[['fuel', 'owner']])\n",
    "\n",
    "# Transform the test data's categorical columns\n",
    "x_test_categorical = ohe.transform(x_test[['fuel', 'owner']])\n",
    "\n",
    "\n",
    "\n",
    "# # Convert back to DataFrame for easier handling\n",
    "x_train_categorical = pd.DataFrame(x_train_categorical, columns=ohe.get_feature_names_out(['fuel', 'owner']))\n",
    "x_train_categorical"
   ]
  }
 ],
 "metadata": {
  "kernelspec": {
   "display_name": "Python 3",
   "language": "python",
   "name": "python3"
  },
  "language_info": {
   "codemirror_mode": {
    "name": "ipython",
    "version": 3
   },
   "file_extension": ".py",
   "mimetype": "text/x-python",
   "name": "python",
   "nbconvert_exporter": "python",
   "pygments_lexer": "ipython3",
   "version": "3.12.2"
  }
 },
 "nbformat": 4,
 "nbformat_minor": 2
}
