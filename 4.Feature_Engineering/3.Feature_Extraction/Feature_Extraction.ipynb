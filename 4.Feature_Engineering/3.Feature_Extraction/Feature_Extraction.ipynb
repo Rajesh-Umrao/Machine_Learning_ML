{
 "cells": [
  {
   "cell_type": "markdown",
   "metadata": {},
   "source": [
    "<h1 style=\"color: cyan; text-align: center; font-size: 250%; font-weight: bold;\" >\n",
    "            Feature Extraction </h1>\n",
    "<table style=\"width: 90%; border-collapse: collapse;\">\n",
    "    <tr>\n",
    "        <th style=\"color: magenta; text-align: left; font-size: 130%; font-weight: bold;\" colspan=\"2\">\n",
    "        List of the Contents:\n",
    "        </th>\n",
    "    </tr>\n",
    "    <tr style=\"color: deeppink\">\n",
    "        <th>Topic name</th>\n",
    "        <th>About</th>\n",
    "    </tr>\n",
    "    <tr>\n",
    "        <td style=\"color:teal; font-weight:bold\" > 1) PCA</td>\n",
    "        <td style=\"color:coral\">\n",
    "        <ul>\n",
    "            <li>PCA is an unsupervised linear transformation technique, which is Primarily used for Dimensionality reduction, by \"maximizing the variance of projected datapoints\"</li>\n",
    "            <li>1.1)PCA: Stepwise- Involve 5-Steps</li>\n",
    "                <ul style=\"color: orange; font-weight:bold\">\n",
    "                    <li>Step1: Standardization</li>\n",
    "                    <li>Step2: Covariance Matrix Computation</li>\n",
    "                    <li>Step2: Covariance Matrix Computation</li>\n",
    "                    <li>Step3: Eigen Decomposition i.e. Compute Eigenvalues and Eigenvectors</li>\n",
    "                    <li>Step4: Selection of most imp Eigen vectors </li>\n",
    "                    <li>Step5: Projection matrix creation of imp eigenvectors</li>\n",
    "                    <li>Step6: Training/Test Data Transformation</li>\n",
    "                </ul>\n",
    "            <li>1.2)PCA: Using Scikit-learn</li>\n",
    "                <ul style=\"color: orange; font-weight:bold\">\n",
    "                    <li> How to Find Optimal Number of PCs</li>\n",
    "                <ul>\n",
    "        </ul></td>\n",
    "    </tr>\n",
    "    <tr>\n",
    "        <td style=\"color:teal; font-weight:bold\" > 2) LDA </td>\n",
    "        <td style=\"color:coral\">---------</td>\n",
    "    </tr>\n",
    "    <tr>\n",
    "        <td style=\"color:teal; font-weight:bold\" > 3) t-SNE </td>\n",
    "        <td style=\"color:coral\">---------</td>\n",
    "    </tr>\n",
    "</table>"
   ]
  },
  {
   "cell_type": "markdown",
   "metadata": {},
   "source": [
    "<h2 style=\"color:gold; text-align:left; font-size:200%; font-weight:bold;\">\n",
    "1.1) PCA: Implementation stepwise</h2>"
   ]
  },
  {
   "cell_type": "code",
   "execution_count": 45,
   "metadata": {},
   "outputs": [
    {
     "data": {
      "application/vnd.plotly.v1+json": {
       "config": {
        "plotlyServerURL": "https://plot.ly"
       },
       "data": [
        {
         "hovertemplate": "color=0<br>Feature1=%{x}<br>Feature2=%{y}<br>Feature3=%{z}<extra></extra>",
         "legendgroup": "0",
         "marker": {
          "color": "#636efa",
          "line": {
           "color": "DarkSlateGrey",
           "width": 2
          },
          "size": 6,
          "symbol": "circle"
         },
         "mode": "markers",
         "name": "0",
         "scene": "scene",
         "showlegend": true,
         "type": "scatter3d",
         "x": [
          0.496714153,
          1.523029856,
          -0.234153375,
          -0.234136957,
          0.767434729,
          -0.463417693,
          -0.562287529,
          -1.01283112,
          -1.412303701,
          -0.2257763,
          -0.544382725,
          0.11092259,
          -1.150993577,
          0.375698018,
          -0.29169375,
          1.852278185,
          -0.013497225,
          0.822544912,
          -1.22084365,
          0.208863595,
          -1.959670124,
          0.73846658,
          0.171368281,
          -0.115648282,
          1.057122226,
          0.34361829
         ],
         "y": [
          0.926177548,
          0.562969237,
          -0.650642569,
          -0.487125384,
          -0.86399077,
          0.270456826,
          0.755391226,
          0.500917188,
          0.751387123,
          0.543360192,
          -0.763259157,
          -1.804882101,
          -1.627542438,
          0.048084947,
          -0.904316625,
          -1.661520062,
          -0.066079799,
          -0.651836108,
          0.047398671,
          -0.860413365,
          -0.384555544,
          0.835692112,
          -1.129706855,
          0.529804178,
          -0.203045386,
          0.371145873
         ],
         "z": [
          1.399355437,
          -0.646936778,
          0.698223314,
          0.393485385,
          0.635171802,
          1.317394066,
          0.197910783,
          -0.651418004,
          0.424165946,
          -0.573700004,
          1.72754317,
          0.43632367,
          0.038003478,
          0.120031327,
          -1.022792565,
          -1.668584074,
          0.399223123,
          -0.483186462,
          1.573986763,
          -1.225765663,
          -1.46437488,
          1.683927691,
          -0.458884263,
          1.078680833,
          -1.576392157,
          1.47654035
         ]
        },
        {
         "hovertemplate": "color=1<br>Feature1=%{x}<br>Feature2=%{y}<br>Feature3=%{z}<extra></extra>",
         "legendgroup": "1",
         "marker": {
          "color": "#EF553B",
          "line": {
           "color": "DarkSlateGrey",
           "width": 2
          },
          "size": 6,
          "symbol": "circle"
         },
         "mode": "markers",
         "name": "1",
         "scene": "scene",
         "showlegend": true,
         "type": "scatter3d",
         "x": [
          -0.138264301,
          0.647688538,
          1.579212816,
          -0.469474386,
          0.542560044,
          -0.465729754,
          0.241962272,
          -1.913280245,
          -1.724917833,
          0.314247333,
          -0.908024076,
          1.465648769,
          0.067528205,
          -1.424748186,
          -0.60063869,
          -0.601706612,
          -1.057710929,
          -1.328186049,
          0.196861236,
          -0.301103696,
          -1.47852199,
          -0.719844208,
          -0.460638771
         ],
         "y": [
          1.90941664,
          -1.398567574,
          -0.592393924,
          0.048521628,
          -0.830950116,
          -0.050238109,
          -0.238948047,
          -0.907563662,
          -0.576771331,
          -0.977555245,
          0.099332305,
          -1.669405281,
          -0.662623759,
          0.570598669,
          0.259722502,
          0.638592459,
          -1.2110162,
          1.006292809,
          -0.57689187,
          1.441568621,
          -2.4716445,
          -0.796895255,
          0.577072127
         ],
         "z": [
          0.924633683,
          0.05963037,
          0.89519322,
          1.049552715,
          -0.535235212,
          0.197599605,
          2.075260873,
          -0.689187818,
          1.735963803,
          -0.483885834,
          -0.320347308,
          0.522835488,
          -0.024354592,
          2.142270359,
          0.613517973,
          -0.257376537,
          0.64719594,
          0.224451819,
          1.047098303,
          -0.03850847,
          -0.1726273,
          0.883659937,
          0.652322878
         ]
        }
       ],
       "layout": {
        "height": 350,
        "legend": {
         "title": {
          "text": "color"
         },
         "tracegroupgap": 0
        },
        "margin": {
         "t": 60
        },
        "scene": {
         "domain": {
          "x": [
           0,
           1
          ],
          "y": [
           0,
           1
          ]
         },
         "xaxis": {
          "title": {
           "text": "Feature1"
          }
         },
         "yaxis": {
          "title": {
           "text": "Feature2"
          }
         },
         "zaxis": {
          "title": {
           "text": "Feature3"
          }
         }
        },
        "template": {
         "data": {
          "bar": [
           {
            "error_x": {
             "color": "#2a3f5f"
            },
            "error_y": {
             "color": "#2a3f5f"
            },
            "marker": {
             "line": {
              "color": "#E5ECF6",
              "width": 0.5
             },
             "pattern": {
              "fillmode": "overlay",
              "size": 10,
              "solidity": 0.2
             }
            },
            "type": "bar"
           }
          ],
          "barpolar": [
           {
            "marker": {
             "line": {
              "color": "#E5ECF6",
              "width": 0.5
             },
             "pattern": {
              "fillmode": "overlay",
              "size": 10,
              "solidity": 0.2
             }
            },
            "type": "barpolar"
           }
          ],
          "carpet": [
           {
            "aaxis": {
             "endlinecolor": "#2a3f5f",
             "gridcolor": "white",
             "linecolor": "white",
             "minorgridcolor": "white",
             "startlinecolor": "#2a3f5f"
            },
            "baxis": {
             "endlinecolor": "#2a3f5f",
             "gridcolor": "white",
             "linecolor": "white",
             "minorgridcolor": "white",
             "startlinecolor": "#2a3f5f"
            },
            "type": "carpet"
           }
          ],
          "choropleth": [
           {
            "colorbar": {
             "outlinewidth": 0,
             "ticks": ""
            },
            "type": "choropleth"
           }
          ],
          "contour": [
           {
            "colorbar": {
             "outlinewidth": 0,
             "ticks": ""
            },
            "colorscale": [
             [
              0,
              "#0d0887"
             ],
             [
              0.1111111111111111,
              "#46039f"
             ],
             [
              0.2222222222222222,
              "#7201a8"
             ],
             [
              0.3333333333333333,
              "#9c179e"
             ],
             [
              0.4444444444444444,
              "#bd3786"
             ],
             [
              0.5555555555555556,
              "#d8576b"
             ],
             [
              0.6666666666666666,
              "#ed7953"
             ],
             [
              0.7777777777777778,
              "#fb9f3a"
             ],
             [
              0.8888888888888888,
              "#fdca26"
             ],
             [
              1,
              "#f0f921"
             ]
            ],
            "type": "contour"
           }
          ],
          "contourcarpet": [
           {
            "colorbar": {
             "outlinewidth": 0,
             "ticks": ""
            },
            "type": "contourcarpet"
           }
          ],
          "heatmap": [
           {
            "colorbar": {
             "outlinewidth": 0,
             "ticks": ""
            },
            "colorscale": [
             [
              0,
              "#0d0887"
             ],
             [
              0.1111111111111111,
              "#46039f"
             ],
             [
              0.2222222222222222,
              "#7201a8"
             ],
             [
              0.3333333333333333,
              "#9c179e"
             ],
             [
              0.4444444444444444,
              "#bd3786"
             ],
             [
              0.5555555555555556,
              "#d8576b"
             ],
             [
              0.6666666666666666,
              "#ed7953"
             ],
             [
              0.7777777777777778,
              "#fb9f3a"
             ],
             [
              0.8888888888888888,
              "#fdca26"
             ],
             [
              1,
              "#f0f921"
             ]
            ],
            "type": "heatmap"
           }
          ],
          "heatmapgl": [
           {
            "colorbar": {
             "outlinewidth": 0,
             "ticks": ""
            },
            "colorscale": [
             [
              0,
              "#0d0887"
             ],
             [
              0.1111111111111111,
              "#46039f"
             ],
             [
              0.2222222222222222,
              "#7201a8"
             ],
             [
              0.3333333333333333,
              "#9c179e"
             ],
             [
              0.4444444444444444,
              "#bd3786"
             ],
             [
              0.5555555555555556,
              "#d8576b"
             ],
             [
              0.6666666666666666,
              "#ed7953"
             ],
             [
              0.7777777777777778,
              "#fb9f3a"
             ],
             [
              0.8888888888888888,
              "#fdca26"
             ],
             [
              1,
              "#f0f921"
             ]
            ],
            "type": "heatmapgl"
           }
          ],
          "histogram": [
           {
            "marker": {
             "pattern": {
              "fillmode": "overlay",
              "size": 10,
              "solidity": 0.2
             }
            },
            "type": "histogram"
           }
          ],
          "histogram2d": [
           {
            "colorbar": {
             "outlinewidth": 0,
             "ticks": ""
            },
            "colorscale": [
             [
              0,
              "#0d0887"
             ],
             [
              0.1111111111111111,
              "#46039f"
             ],
             [
              0.2222222222222222,
              "#7201a8"
             ],
             [
              0.3333333333333333,
              "#9c179e"
             ],
             [
              0.4444444444444444,
              "#bd3786"
             ],
             [
              0.5555555555555556,
              "#d8576b"
             ],
             [
              0.6666666666666666,
              "#ed7953"
             ],
             [
              0.7777777777777778,
              "#fb9f3a"
             ],
             [
              0.8888888888888888,
              "#fdca26"
             ],
             [
              1,
              "#f0f921"
             ]
            ],
            "type": "histogram2d"
           }
          ],
          "histogram2dcontour": [
           {
            "colorbar": {
             "outlinewidth": 0,
             "ticks": ""
            },
            "colorscale": [
             [
              0,
              "#0d0887"
             ],
             [
              0.1111111111111111,
              "#46039f"
             ],
             [
              0.2222222222222222,
              "#7201a8"
             ],
             [
              0.3333333333333333,
              "#9c179e"
             ],
             [
              0.4444444444444444,
              "#bd3786"
             ],
             [
              0.5555555555555556,
              "#d8576b"
             ],
             [
              0.6666666666666666,
              "#ed7953"
             ],
             [
              0.7777777777777778,
              "#fb9f3a"
             ],
             [
              0.8888888888888888,
              "#fdca26"
             ],
             [
              1,
              "#f0f921"
             ]
            ],
            "type": "histogram2dcontour"
           }
          ],
          "mesh3d": [
           {
            "colorbar": {
             "outlinewidth": 0,
             "ticks": ""
            },
            "type": "mesh3d"
           }
          ],
          "parcoords": [
           {
            "line": {
             "colorbar": {
              "outlinewidth": 0,
              "ticks": ""
             }
            },
            "type": "parcoords"
           }
          ],
          "pie": [
           {
            "automargin": true,
            "type": "pie"
           }
          ],
          "scatter": [
           {
            "fillpattern": {
             "fillmode": "overlay",
             "size": 10,
             "solidity": 0.2
            },
            "type": "scatter"
           }
          ],
          "scatter3d": [
           {
            "line": {
             "colorbar": {
              "outlinewidth": 0,
              "ticks": ""
             }
            },
            "marker": {
             "colorbar": {
              "outlinewidth": 0,
              "ticks": ""
             }
            },
            "type": "scatter3d"
           }
          ],
          "scattercarpet": [
           {
            "marker": {
             "colorbar": {
              "outlinewidth": 0,
              "ticks": ""
             }
            },
            "type": "scattercarpet"
           }
          ],
          "scattergeo": [
           {
            "marker": {
             "colorbar": {
              "outlinewidth": 0,
              "ticks": ""
             }
            },
            "type": "scattergeo"
           }
          ],
          "scattergl": [
           {
            "marker": {
             "colorbar": {
              "outlinewidth": 0,
              "ticks": ""
             }
            },
            "type": "scattergl"
           }
          ],
          "scattermapbox": [
           {
            "marker": {
             "colorbar": {
              "outlinewidth": 0,
              "ticks": ""
             }
            },
            "type": "scattermapbox"
           }
          ],
          "scatterpolar": [
           {
            "marker": {
             "colorbar": {
              "outlinewidth": 0,
              "ticks": ""
             }
            },
            "type": "scatterpolar"
           }
          ],
          "scatterpolargl": [
           {
            "marker": {
             "colorbar": {
              "outlinewidth": 0,
              "ticks": ""
             }
            },
            "type": "scatterpolargl"
           }
          ],
          "scatterternary": [
           {
            "marker": {
             "colorbar": {
              "outlinewidth": 0,
              "ticks": ""
             }
            },
            "type": "scatterternary"
           }
          ],
          "surface": [
           {
            "colorbar": {
             "outlinewidth": 0,
             "ticks": ""
            },
            "colorscale": [
             [
              0,
              "#0d0887"
             ],
             [
              0.1111111111111111,
              "#46039f"
             ],
             [
              0.2222222222222222,
              "#7201a8"
             ],
             [
              0.3333333333333333,
              "#9c179e"
             ],
             [
              0.4444444444444444,
              "#bd3786"
             ],
             [
              0.5555555555555556,
              "#d8576b"
             ],
             [
              0.6666666666666666,
              "#ed7953"
             ],
             [
              0.7777777777777778,
              "#fb9f3a"
             ],
             [
              0.8888888888888888,
              "#fdca26"
             ],
             [
              1,
              "#f0f921"
             ]
            ],
            "type": "surface"
           }
          ],
          "table": [
           {
            "cells": {
             "fill": {
              "color": "#EBF0F8"
             },
             "line": {
              "color": "white"
             }
            },
            "header": {
             "fill": {
              "color": "#C8D4E3"
             },
             "line": {
              "color": "white"
             }
            },
            "type": "table"
           }
          ]
         },
         "layout": {
          "annotationdefaults": {
           "arrowcolor": "#2a3f5f",
           "arrowhead": 0,
           "arrowwidth": 1
          },
          "autotypenumbers": "strict",
          "coloraxis": {
           "colorbar": {
            "outlinewidth": 0,
            "ticks": ""
           }
          },
          "colorscale": {
           "diverging": [
            [
             0,
             "#8e0152"
            ],
            [
             0.1,
             "#c51b7d"
            ],
            [
             0.2,
             "#de77ae"
            ],
            [
             0.3,
             "#f1b6da"
            ],
            [
             0.4,
             "#fde0ef"
            ],
            [
             0.5,
             "#f7f7f7"
            ],
            [
             0.6,
             "#e6f5d0"
            ],
            [
             0.7,
             "#b8e186"
            ],
            [
             0.8,
             "#7fbc41"
            ],
            [
             0.9,
             "#4d9221"
            ],
            [
             1,
             "#276419"
            ]
           ],
           "sequential": [
            [
             0,
             "#0d0887"
            ],
            [
             0.1111111111111111,
             "#46039f"
            ],
            [
             0.2222222222222222,
             "#7201a8"
            ],
            [
             0.3333333333333333,
             "#9c179e"
            ],
            [
             0.4444444444444444,
             "#bd3786"
            ],
            [
             0.5555555555555556,
             "#d8576b"
            ],
            [
             0.6666666666666666,
             "#ed7953"
            ],
            [
             0.7777777777777778,
             "#fb9f3a"
            ],
            [
             0.8888888888888888,
             "#fdca26"
            ],
            [
             1,
             "#f0f921"
            ]
           ],
           "sequentialminus": [
            [
             0,
             "#0d0887"
            ],
            [
             0.1111111111111111,
             "#46039f"
            ],
            [
             0.2222222222222222,
             "#7201a8"
            ],
            [
             0.3333333333333333,
             "#9c179e"
            ],
            [
             0.4444444444444444,
             "#bd3786"
            ],
            [
             0.5555555555555556,
             "#d8576b"
            ],
            [
             0.6666666666666666,
             "#ed7953"
            ],
            [
             0.7777777777777778,
             "#fb9f3a"
            ],
            [
             0.8888888888888888,
             "#fdca26"
            ],
            [
             1,
             "#f0f921"
            ]
           ]
          },
          "colorway": [
           "#636efa",
           "#EF553B",
           "#00cc96",
           "#ab63fa",
           "#FFA15A",
           "#19d3f3",
           "#FF6692",
           "#B6E880",
           "#FF97FF",
           "#FECB52"
          ],
          "font": {
           "color": "#2a3f5f"
          },
          "geo": {
           "bgcolor": "white",
           "lakecolor": "white",
           "landcolor": "#E5ECF6",
           "showlakes": true,
           "showland": true,
           "subunitcolor": "white"
          },
          "hoverlabel": {
           "align": "left"
          },
          "hovermode": "closest",
          "mapbox": {
           "style": "light"
          },
          "paper_bgcolor": "white",
          "plot_bgcolor": "#E5ECF6",
          "polar": {
           "angularaxis": {
            "gridcolor": "white",
            "linecolor": "white",
            "ticks": ""
           },
           "bgcolor": "#E5ECF6",
           "radialaxis": {
            "gridcolor": "white",
            "linecolor": "white",
            "ticks": ""
           }
          },
          "scene": {
           "xaxis": {
            "backgroundcolor": "#E5ECF6",
            "gridcolor": "white",
            "gridwidth": 2,
            "linecolor": "white",
            "showbackground": true,
            "ticks": "",
            "zerolinecolor": "white"
           },
           "yaxis": {
            "backgroundcolor": "#E5ECF6",
            "gridcolor": "white",
            "gridwidth": 2,
            "linecolor": "white",
            "showbackground": true,
            "ticks": "",
            "zerolinecolor": "white"
           },
           "zaxis": {
            "backgroundcolor": "#E5ECF6",
            "gridcolor": "white",
            "gridwidth": 2,
            "linecolor": "white",
            "showbackground": true,
            "ticks": "",
            "zerolinecolor": "white"
           }
          },
          "shapedefaults": {
           "line": {
            "color": "#2a3f5f"
           }
          },
          "ternary": {
           "aaxis": {
            "gridcolor": "white",
            "linecolor": "white",
            "ticks": ""
           },
           "baxis": {
            "gridcolor": "white",
            "linecolor": "white",
            "ticks": ""
           },
           "bgcolor": "#E5ECF6",
           "caxis": {
            "gridcolor": "white",
            "linecolor": "white",
            "ticks": ""
           }
          },
          "title": {
           "x": 0.05
          },
          "xaxis": {
           "automargin": true,
           "gridcolor": "white",
           "linecolor": "white",
           "ticks": "",
           "title": {
            "standoff": 15
           },
           "zerolinecolor": "white",
           "zerolinewidth": 2
          },
          "yaxis": {
           "automargin": true,
           "gridcolor": "white",
           "linecolor": "white",
           "ticks": "",
           "title": {
            "standoff": 15
           },
           "zerolinecolor": "white",
           "zerolinewidth": 2
          }
         }
        },
        "width": 400
       }
      }
     },
     "metadata": {},
     "output_type": "display_data"
    },
    {
     "name": "stdout",
     "output_type": "stream",
     "text": [
      "covariance matrix:\n",
      " [[ 1.02083333 -0.1255192  -0.13999713]\n",
      " [-0.1255192   1.02083333  0.2707831 ]\n",
      " [-0.13999713  0.2707831   1.02083333]]\n",
      "eigen values: \n",
      " [1.38773326 0.92522462 0.74954212]\n",
      "eigen_vectors \n",
      " [[ 0.4556872  -0.88875899  0.04956435]\n",
      " [-0.6242298  -0.35875972 -0.69399468]\n",
      " [-0.63457571 -0.28530495  0.71827206]]\n"
     ]
    },
    {
     "data": {
      "image/png": "[encoded data removed]",
      "text/plain": [
       "<Figure size 500x400 with 1 Axes>"
      ]
     },
     "metadata": {},
     "output_type": "display_data"
    },
    {
     "name": "stdout",
     "output_type": "stream",
     "text": [
      "Top two Principle components \n",
      " [[ 0.4556872  -0.88875899  0.04956435]\n",
      " [-0.6242298  -0.35875972 -0.69399468]]\n",
      "         PC1       PC2  Target\n",
      "1  -2.068197 -1.354776       1\n",
      "2   1.539959  0.058385       1\n",
      "17  0.929000  0.521753       1\n"
     ]
    },
    {
     "data": {
      "application/vnd.plotly.v1+json": {
       "config": {
        "plotlyServerURL": "https://plot.ly"
       },
       "data": [
        {
         "hovertemplate": "color=0<br>x=%{x}<br>y=%{y}<extra></extra>",
         "legendgroup": "0",
         "marker": {
          "color": "#3366CC",
          "line": {
           "color": "DarkSlateGrey",
           "width": 2
          },
          "size": 12,
          "symbol": "circle"
         },
         "mode": "markers",
         "name": "0",
         "orientation": "v",
         "showlegend": true,
         "type": "scatter",
         "x": [
          -0.7554786477569122,
          0.010113525658342974,
          0.3937274682633094,
          0.21657798045221147,
          1.1038360375184897,
          -0.5962402701678535,
          -1.182681202746135,
          -1.2031488555033227,
          -1.5939012934076786,
          -0.8454037156798063,
          0.40307106918033314,
          1.6904022447941958,
          0.8606363127229174,
          -0.01868899427793293,
          0.5239744670079017,
          2.31313125944578,
          -0.08705106329695705,
          0.86355153915148,
          -0.7435370659355395,
          0.7215281214449395,
          -0.8494363134859747,
          -0.5298617117169838,
          1.0084203757963897,
          -0.6895850953033335,
          0.481645444686735,
          -0.2815429098523163
         ],
         "xaxis": "x",
         "y": [
          -1.7513195365931444,
          -0.8024828163990557,
          -0.1035569701063462,
          0.0563985855390518,
          -0.6615518262918438,
          -0.7691915214348698,
          -0.06745191581094029,
          0.9709241690157204,
          0.352155257668695,
          0.3549390518317287,
          -0.6052057343299905,
          0.3112989396278771,
          1.4034337061510263,
          -0.37428969936747053,
          1.307578363136007,
          0.6098059807650172,
          -0.26713999683848955,
          0.041849527570862174,
          -0.34860136505543,
          1.0954460252592428,
          2.5749731914893443,
          -2.0918374183418136,
          0.6621434964893412,
          -0.9354486176687431,
          0.5090509834530442,
          -1.4822119933681264
         ],
         "yaxis": "y"
        },
        {
         "hovertemplate": "color=1<br>x=%{x}<br>y=%{y}<extra></extra>",
         "legendgroup": "1",
         "marker": {
          "color": "#DC3912",
          "line": {
           "color": "DarkSlateGrey",
           "width": 2
          },
          "size": 12,
          "symbol": "circle"
         },
         "mode": "markers",
         "name": "1",
         "orientation": "v",
         "showlegend": true,
         "type": "scatter",
         "x": [
          -2.068197126929265,
          1.5399593219601624,
          1.2578653358375667,
          -0.3947671472846082,
          0.8965813757152944,
          -0.3405156642659417,
          0.29998404021579056,
          -0.2700105047950062,
          -0.3733695252175183,
          0.92900017708954,
          -0.737409284428614,
          2.2421882471072174,
          0.5190109381898369,
          -1.3314551995651247,
          -0.6917279179498076,
          -1.1114303405512578,
          0.5292882409552248,
          -1.8132872124364154,
          0.5560335678751115,
          -1.739902193033538,
          1.5165288501548368,
          0.3035484465282128,
          -0.9319751321639764
         ],
         "xaxis": "x",
         "y": [
          -1.3547764128928892,
          0.05838476726523064,
          -1.5202787106773388,
          -0.4790145572229221,
          0.3442184514645506,
          0.18669165896894427,
          -1.6116713578541273,
          2.17869519049167,
          0.12697393257450884,
          0.5217534587332141,
          0.8140494301711925,
          -0.7389012483608968,
          0.22705167533644544,
          -0.8358877741408818,
          -0.1507917884194437,
          0.3422728999928555,
          0.7238118867828881,
          0.3403412187726408,
          -0.6871305699546899,
          -0.34554345508994966,
          2.1200555615756773,
          0.15199149110839702,
          -0.4020036150157682
         ],
         "yaxis": "y"
        }
       ],
       "layout": {
        "height": 350,
        "legend": {
         "title": {
          "text": "color"
         },
         "tracegroupgap": 0
        },
        "margin": {
         "t": 60
        },
        "template": {
         "data": {
          "bar": [
           {
            "error_x": {
             "color": "#2a3f5f"
            },
            "error_y": {
             "color": "#2a3f5f"
            },
            "marker": {
             "line": {
              "color": "#E5ECF6",
              "width": 0.5
             },
             "pattern": {
              "fillmode": "overlay",
              "size": 10,
              "solidity": 0.2
             }
            },
            "type": "bar"
           }
          ],
          "barpolar": [
           {
            "marker": {
             "line": {
              "color": "#E5ECF6",
              "width": 0.5
             },
             "pattern": {
              "fillmode": "overlay",
              "size": 10,
              "solidity": 0.2
             }
            },
            "type": "barpolar"
           }
          ],
          "carpet": [
           {
            "aaxis": {
             "endlinecolor": "#2a3f5f",
             "gridcolor": "white",
             "linecolor": "white",
             "minorgridcolor": "white",
             "startlinecolor": "#2a3f5f"
            },
            "baxis": {
             "endlinecolor": "#2a3f5f",
             "gridcolor": "white",
             "linecolor": "white",
             "minorgridcolor": "white",
             "startlinecolor": "#2a3f5f"
            },
            "type": "carpet"
           }
          ],
          "choropleth": [
           {
            "colorbar": {
             "outlinewidth": 0,
             "ticks": ""
            },
            "type": "choropleth"
           }
          ],
          "contour": [
           {
            "colorbar": {
             "outlinewidth": 0,
             "ticks": ""
            },
            "colorscale": [
             [
              0,
              "#0d0887"
             ],
             [
              0.1111111111111111,
              "#46039f"
             ],
             [
              0.2222222222222222,
              "#7201a8"
             ],
             [
              0.3333333333333333,
              "#9c179e"
             ],
             [
              0.4444444444444444,
              "#bd3786"
             ],
             [
              0.5555555555555556,
              "#d8576b"
             ],
             [
              0.6666666666666666,
              "#ed7953"
             ],
             [
              0.7777777777777778,
              "#fb9f3a"
             ],
             [
              0.8888888888888888,
              "#fdca26"
             ],
             [
              1,
              "#f0f921"
             ]
            ],
            "type": "contour"
           }
          ],
          "contourcarpet": [
           {
            "colorbar": {
             "outlinewidth": 0,
             "ticks": ""
            },
            "type": "contourcarpet"
           }
          ],
          "heatmap": [
           {
            "colorbar": {
             "outlinewidth": 0,
             "ticks": ""
            },
            "colorscale": [
             [
              0,
              "#0d0887"
             ],
             [
              0.1111111111111111,
              "#46039f"
             ],
             [
              0.2222222222222222,
              "#7201a8"
             ],
             [
              0.3333333333333333,
              "#9c179e"
             ],
             [
              0.4444444444444444,
              "#bd3786"
             ],
             [
              0.5555555555555556,
              "#d8576b"
             ],
             [
              0.6666666666666666,
              "#ed7953"
             ],
             [
              0.7777777777777778,
              "#fb9f3a"
             ],
             [
              0.8888888888888888,
              "#fdca26"
             ],
             [
              1,
              "#f0f921"
             ]
            ],
            "type": "heatmap"
           }
          ],
          "heatmapgl": [
           {
            "colorbar": {
             "outlinewidth": 0,
             "ticks": ""
            },
            "colorscale": [
             [
              0,
              "#0d0887"
             ],
             [
              0.1111111111111111,
              "#46039f"
             ],
             [
              0.2222222222222222,
              "#7201a8"
             ],
             [
              0.3333333333333333,
              "#9c179e"
             ],
             [
              0.4444444444444444,
              "#bd3786"
             ],
             [
              0.5555555555555556,
              "#d8576b"
             ],
             [
              0.6666666666666666,
              "#ed7953"
             ],
             [
              0.7777777777777778,
              "#fb9f3a"
             ],
             [
              0.8888888888888888,
              "#fdca26"
             ],
             [
              1,
              "#f0f921"
             ]
            ],
            "type": "heatmapgl"
           }
          ],
          "histogram": [
           {
            "marker": {
             "pattern": {
              "fillmode": "overlay",
              "size": 10,
              "solidity": 0.2
             }
            },
            "type": "histogram"
           }
          ],
          "histogram2d": [
           {
            "colorbar": {
             "outlinewidth": 0,
             "ticks": ""
            },
            "colorscale": [
             [
              0,
              "#0d0887"
             ],
             [
              0.1111111111111111,
              "#46039f"
             ],
             [
              0.2222222222222222,
              "#7201a8"
             ],
             [
              0.3333333333333333,
              "#9c179e"
             ],
             [
              0.4444444444444444,
              "#bd3786"
             ],
             [
              0.5555555555555556,
              "#d8576b"
             ],
             [
              0.6666666666666666,
              "#ed7953"
             ],
             [
              0.7777777777777778,
              "#fb9f3a"
             ],
             [
              0.8888888888888888,
              "#fdca26"
             ],
             [
              1,
              "#f0f921"
             ]
            ],
            "type": "histogram2d"
           }
          ],
          "histogram2dcontour": [
           {
            "colorbar": {
             "outlinewidth": 0,
             "ticks": ""
            },
            "colorscale": [
             [
              0,
              "#0d0887"
             ],
             [
              0.1111111111111111,
              "#46039f"
             ],
             [
              0.2222222222222222,
              "#7201a8"
             ],
             [
              0.3333333333333333,
              "#9c179e"
             ],
             [
              0.4444444444444444,
              "#bd3786"
             ],
             [
              0.5555555555555556,
              "#d8576b"
             ],
             [
              0.6666666666666666,
              "#ed7953"
             ],
             [
              0.7777777777777778,
              "#fb9f3a"
             ],
             [
              0.8888888888888888,
              "#fdca26"
             ],
             [
              1,
              "#f0f921"
             ]
            ],
            "type": "histogram2dcontour"
           }
          ],
          "mesh3d": [
           {
            "colorbar": {
             "outlinewidth": 0,
             "ticks": ""
            },
            "type": "mesh3d"
           }
          ],
          "parcoords": [
           {
            "line": {
             "colorbar": {
              "outlinewidth": 0,
              "ticks": ""
             }
            },
            "type": "parcoords"
           }
          ],
          "pie": [
           {
            "automargin": true,
            "type": "pie"
           }
          ],
          "scatter": [
           {
            "fillpattern": {
             "fillmode": "overlay",
             "size": 10,
             "solidity": 0.2
            },
            "type": "scatter"
           }
          ],
          "scatter3d": [
           {
            "line": {
             "colorbar": {
              "outlinewidth": 0,
              "ticks": ""
             }
            },
            "marker": {
             "colorbar": {
              "outlinewidth": 0,
              "ticks": ""
             }
            },
            "type": "scatter3d"
           }
          ],
          "scattercarpet": [
           {
            "marker": {
             "colorbar": {
              "outlinewidth": 0,
              "ticks": ""
             }
            },
            "type": "scattercarpet"
           }
          ],
          "scattergeo": [
           {
            "marker": {
             "colorbar": {
              "outlinewidth": 0,
              "ticks": ""
             }
            },
            "type": "scattergeo"
           }
          ],
          "scattergl": [
           {
            "marker": {
             "colorbar": {
              "outlinewidth": 0,
              "ticks": ""
             }
            },
            "type": "scattergl"
           }
          ],
          "scattermapbox": [
           {
            "marker": {
             "colorbar": {
              "outlinewidth": 0,
              "ticks": ""
             }
            },
            "type": "scattermapbox"
           }
          ],
          "scatterpolar": [
           {
            "marker": {
             "colorbar": {
              "outlinewidth": 0,
              "ticks": ""
             }
            },
            "type": "scatterpolar"
           }
          ],
          "scatterpolargl": [
           {
            "marker": {
             "colorbar": {
              "outlinewidth": 0,
              "ticks": ""
             }
            },
            "type": "scatterpolargl"
           }
          ],
          "scatterternary": [
           {
            "marker": {
             "colorbar": {
              "outlinewidth": 0,
              "ticks": ""
             }
            },
            "type": "scatterternary"
           }
          ],
          "surface": [
           {
            "colorbar": {
             "outlinewidth": 0,
             "ticks": ""
            },
            "colorscale": [
             [
              0,
              "#0d0887"
             ],
             [
              0.1111111111111111,
              "#46039f"
             ],
             [
              0.2222222222222222,
              "#7201a8"
             ],
             [
              0.3333333333333333,
              "#9c179e"
             ],
             [
              0.4444444444444444,
              "#bd3786"
             ],
             [
              0.5555555555555556,
              "#d8576b"
             ],
             [
              0.6666666666666666,
              "#ed7953"
             ],
             [
              0.7777777777777778,
              "#fb9f3a"
             ],
             [
              0.8888888888888888,
              "#fdca26"
             ],
             [
              1,
              "#f0f921"
             ]
            ],
            "type": "surface"
           }
          ],
          "table": [
           {
            "cells": {
             "fill": {
              "color": "#EBF0F8"
             },
             "line": {
              "color": "white"
             }
            },
            "header": {
             "fill": {
              "color": "#C8D4E3"
             },
             "line": {
              "color": "white"
             }
            },
            "type": "table"
           }
          ]
         },
         "layout": {
          "annotationdefaults": {
           "arrowcolor": "#2a3f5f",
           "arrowhead": 0,
           "arrowwidth": 1
          },
          "autotypenumbers": "strict",
          "coloraxis": {
           "colorbar": {
            "outlinewidth": 0,
            "ticks": ""
           }
          },
          "colorscale": {
           "diverging": [
            [
             0,
             "#8e0152"
            ],
            [
             0.1,
             "#c51b7d"
            ],
            [
             0.2,
             "#de77ae"
            ],
            [
             0.3,
             "#f1b6da"
            ],
            [
             0.4,
             "#fde0ef"
            ],
            [
             0.5,
             "#f7f7f7"
            ],
            [
             0.6,
             "#e6f5d0"
            ],
            [
             0.7,
             "#b8e186"
            ],
            [
             0.8,
             "#7fbc41"
            ],
            [
             0.9,
             "#4d9221"
            ],
            [
             1,
             "#276419"
            ]
           ],
           "sequential": [
            [
             0,
             "#0d0887"
            ],
            [
             0.1111111111111111,
             "#46039f"
            ],
            [
             0.2222222222222222,
             "#7201a8"
            ],
            [
             0.3333333333333333,
             "#9c179e"
            ],
            [
             0.4444444444444444,
             "#bd3786"
            ],
            [
             0.5555555555555556,
             "#d8576b"
            ],
            [
             0.6666666666666666,
             "#ed7953"
            ],
            [
             0.7777777777777778,
             "#fb9f3a"
            ],
            [
             0.8888888888888888,
             "#fdca26"
            ],
            [
             1,
             "#f0f921"
            ]
           ],
           "sequentialminus": [
            [
             0,
             "#0d0887"
            ],
            [
             0.1111111111111111,
             "#46039f"
            ],
            [
             0.2222222222222222,
             "#7201a8"
            ],
            [
             0.3333333333333333,
             "#9c179e"
            ],
            [
             0.4444444444444444,
             "#bd3786"
            ],
            [
             0.5555555555555556,
             "#d8576b"
            ],
            [
             0.6666666666666666,
             "#ed7953"
            ],
            [
             0.7777777777777778,
             "#fb9f3a"
            ],
            [
             0.8888888888888888,
             "#fdca26"
            ],
            [
             1,
             "#f0f921"
            ]
           ]
          },
          "colorway": [
           "#636efa",
           "#EF553B",
           "#00cc96",
           "#ab63fa",
           "#FFA15A",
           "#19d3f3",
           "#FF6692",
           "#B6E880",
           "#FF97FF",
           "#FECB52"
          ],
          "font": {
           "color": "#2a3f5f"
          },
          "geo": {
           "bgcolor": "white",
           "lakecolor": "white",
           "landcolor": "#E5ECF6",
           "showlakes": true,
           "showland": true,
           "subunitcolor": "white"
          },
          "hoverlabel": {
           "align": "left"
          },
          "hovermode": "closest",
          "mapbox": {
           "style": "light"
          },
          "paper_bgcolor": "white",
          "plot_bgcolor": "#E5ECF6",
          "polar": {
           "angularaxis": {
            "gridcolor": "white",
            "linecolor": "white",
            "ticks": ""
           },
           "bgcolor": "#E5ECF6",
           "radialaxis": {
            "gridcolor": "white",
            "linecolor": "white",
            "ticks": ""
           }
          },
          "scene": {
           "xaxis": {
            "backgroundcolor": "#E5ECF6",
            "gridcolor": "white",
            "gridwidth": 2,
            "linecolor": "white",
            "showbackground": true,
            "ticks": "",
            "zerolinecolor": "white"
           },
           "yaxis": {
            "backgroundcolor": "#E5ECF6",
            "gridcolor": "white",
            "gridwidth": 2,
            "linecolor": "white",
            "showbackground": true,
            "ticks": "",
            "zerolinecolor": "white"
           },
           "zaxis": {
            "backgroundcolor": "#E5ECF6",
            "gridcolor": "white",
            "gridwidth": 2,
            "linecolor": "white",
            "showbackground": true,
            "ticks": "",
            "zerolinecolor": "white"
           }
          },
          "shapedefaults": {
           "line": {
            "color": "#2a3f5f"
           }
          },
          "ternary": {
           "aaxis": {
            "gridcolor": "white",
            "linecolor": "white",
            "ticks": ""
           },
           "baxis": {
            "gridcolor": "white",
            "linecolor": "white",
            "ticks": ""
           },
           "bgcolor": "#E5ECF6",
           "caxis": {
            "gridcolor": "white",
            "linecolor": "white",
            "ticks": ""
           }
          },
          "title": {
           "x": 0.05
          },
          "xaxis": {
           "automargin": true,
           "gridcolor": "white",
           "linecolor": "white",
           "ticks": "",
           "title": {
            "standoff": 15
           },
           "zerolinecolor": "white",
           "zerolinewidth": 2
          },
          "yaxis": {
           "automargin": true,
           "gridcolor": "white",
           "linecolor": "white",
           "ticks": "",
           "title": {
            "standoff": 15
           },
           "zerolinecolor": "white",
           "zerolinewidth": 2
          }
         }
        },
        "width": 400,
        "xaxis": {
         "anchor": "y",
         "domain": [
          0,
          1
         ],
         "title": {
          "text": "x"
         }
        },
        "yaxis": {
         "anchor": "x",
         "domain": [
          0,
          1
         ],
         "title": {
          "text": "y"
         }
        }
       }
      }
     },
     "metadata": {},
     "output_type": "display_data"
    }
   ],
   "source": [
    "import numpy as np \n",
    "import pandas as pd \n",
    "import matplotlib.pyplot as plt \n",
    "import seaborn as sns\n",
    "import warnings\n",
    "warnings.filterwarnings('ignore') \n",
    "\n",
    "df=pd.read_csv('pca_dataset.csv')\n",
    "df.sample(3)\n",
    "#Lets plot the data to check th\n",
    "import plotly.express as px \n",
    "fig=px.scatter_3d(df, x=df['Feature1'], y=df['Feature2'], z=df['Feature3'], \n",
    "                  color=df['Target'].astype('str'), )\n",
    "fig.update_traces(marker=dict(size=6, line=dict(width=2, color='DarkSlateGrey')), \n",
    "                 selector=dict(mode='markers'))\n",
    "fig.update_layout( width=400,  height=350)\n",
    "fig.show()\n",
    "#STEP-1: Standardisation \n",
    "from sklearn.preprocessing import StandardScaler\n",
    "scaler=StandardScaler()\n",
    "df.iloc[:, 0:3]=scaler.fit_transform(df.iloc[:, 0:3])\n",
    "\n",
    "#STEP-2: COVARIANCE MATRIX CONSTRUCTION \n",
    "        #np.cov() Function np.cov() function expects the following format:\n",
    "        #Rows should represent variables (features).\n",
    "        #Columns should represent observations (data points)\n",
    "        #df.iloc[:, 0:3].T   #check this \n",
    "covariance_matrix=np.cov(df.iloc[:, 0:3].T)\n",
    "print('covariance matrix:\\n', covariance_matrix)\n",
    "\n",
    "#STEP-3: Eigen vectors and Eigen value calculation \n",
    "eigen_values, eigen_vectors=np.linalg.eig(covariance_matrix)\n",
    "print('eigen values: \\n', eigen_values)\n",
    "print('eigen_vectors \\n', eigen_vectors)\n",
    "\n",
    "\n",
    "# Plotting the Eigenvectors\n",
    "origin = [0, 0, 0]  # Origin point for the arrows\n",
    "# Set up 3D plot\n",
    "fig = plt.figure(figsize=(5,4))\n",
    "ax = fig.add_subplot(111, projection='3d')\n",
    "# Scatter plotof the original data\n",
    "ax.scatter(df['Feature1'], df['Feature2'], df['Feature3'], marker='o', color='gray', alpha=0.5)\n",
    "\n",
    "# Plot the eigenvectors as arrows\n",
    "for i in range(len(eigen_vectors)):\n",
    "    ax.quiver(*origin, eigen_vectors[0, i], eigen_vectors[1, i], eigen_vectors[2, i], \n",
    "              length=eigen_values[i], color='r', arrow_length_ratio=0.1)\n",
    "\n",
    "# Set labels for the plot\n",
    "ax.set_xlabel('Feature 1')\n",
    "ax.set_ylabel('Feature 2')\n",
    "ax.set_zlabel('Feature 3')\n",
    "plt.title(\"3D Plot of Eigenvectors\")\n",
    "plt.show()\n",
    "\n",
    "#STEP-4: SELECTION OF TOP EIGEN VECTORS \n",
    "pc=eigen_vectors[0:2]\n",
    "print('Top two Principle components \\n', pc)\n",
    "\n",
    "#STEP-5: Projection matrix creation using transformation\n",
    "projection_matrix=np.dot(df.iloc[:, 0:3], pc.T) \n",
    "new_df=pd.DataFrame(projection_matrix, columns=['PC1', 'PC2'])\n",
    "new_df['Target']=df['Target'].values\n",
    "print(new_df.sample(3))\n",
    "\n",
    "#ploting the datapoints \n",
    "fig = px.scatter(x=new_df['PC1'],y=new_df['PC2'],\n",
    "                 color=new_df['Target'].astype('str'),\n",
    "                 color_discrete_sequence=px.colors.qualitative.G10)\n",
    "fig.update_traces(marker=dict(size=12,line=dict(width=2,color='DarkSlateGrey')),\n",
    "                  selector=dict(mode='markers'))\n",
    "fig.update_layout( width=400,  height=350)\n",
    "fig.show()"
   ]
  },
  {
   "cell_type": "markdown",
   "metadata": {},
   "source": [
    "<h2 style=\"color:gold; text-align:left; font-size:200%; font-weight:bold;\">\n",
    "1.2) PCA: Using Sckit-learn</h2>"
   ]
  },
  {
   "cell_type": "code",
   "execution_count": 32,
   "metadata": {},
   "outputs": [
    {
     "name": "stdout",
     "output_type": "stream",
     "text": [
      "KNN accuracy without: 0.9648809523809524\n",
      "KNN accuracy WITH PCA: 0.955\n"
     ]
    }
   ],
   "source": [
    "import numpy as np\n",
    "import pandas as pd \n",
    "from sklearn.model_selection import train_test_split\n",
    " \n",
    "#Data ingestion \n",
    "df=pd.read_csv('mnist_train.csv')\n",
    "df.sample(2)\n",
    "#cheking the image digit \n",
    "import matplotlib.pyplot as plt \n",
    "# plt.imshow(df.iloc[4, 1:].values.reshape(28, 28))\n",
    "\n",
    "#Train-Test Split \n",
    "x=df.iloc[:, 1:]\n",
    "y=df.iloc[:, 0]\n",
    "x_train, x_test, y_train, y_test=train_test_split(x, y, test_size=0.2, random_state=42)\n",
    "\n",
    "#WITHOUT PCA- MODEL ACCURACY  \n",
    "#Training the model \n",
    "from sklearn.neighbors import KNeighborsClassifier\n",
    "knn=KNeighborsClassifier()\n",
    "knn.fit(x_train, y_train)\n",
    "y_pred=knn.predict(x_test)\n",
    "#Calculating accuracy \n",
    "from sklearn.metrics import accuracy_score\n",
    "accuracy=accuracy_score(y_test, y_pred)\n",
    "print('KNN accuracy without:', accuracy)\n",
    "\n",
    "#USING PCA: MODEL ACCURACY \n",
    "#1)Step: Standardrization\n",
    "from sklearn.preprocessing import StandardScaler\n",
    "scaler=StandardScaler()\n",
    "x_train_trf=scaler.fit_transform(x_train)\n",
    "x_test_trf=scaler.transform(x_test)\n",
    "\n",
    "#2)Step:apply PCA-this will create EVs and EVc\n",
    "        #---> Attribute to check E-Vectors=pca.components_\n",
    "        #---> Attribute to check E-values=pca.explained_variance_ \n",
    "from sklearn.decomposition import PCA\n",
    "pca=PCA(n_components=100) \n",
    "#now fit the pca: by doing this-it will shift x_train & x_test into trf cordinate\n",
    "x_train_trf=pca.fit_transform(x_train_trf)\n",
    "x_test_trf=pca.transform(x_test_trf)\n",
    "\n",
    "#Model traing with trf data \n",
    "knn=KNeighborsClassifier()\n",
    "knn.fit(x_train_trf, y_train)\n",
    "y_pred_trf=knn.predict(x_test_trf)\n",
    "#calculate accuracy of model \n",
    "accuracy_trf= accuracy_score(y_test, y_pred_trf)\n",
    "print(\"KNN accuracy WITH PCA:\",accuracy_trf)\n"
   ]
  },
  {
   "cell_type": "markdown",
   "metadata": {},
   "source": [
    "<h2 style=\"color:gold; text-align:left; font-size:200%; font-weight:bold;\">\n",
    "Finding optimum Nos of PCs</h2>"
   ]
  },
  {
   "cell_type": "code",
   "execution_count": 39,
   "metadata": {},
   "outputs": [
    {
     "data": {
      "image/png": "[encoded data removed]",
      "text/plain": [
       "<Figure size 400x300 with 1 Axes>"
      ]
     },
     "metadata": {},
     "output_type": "display_data"
    }
   ],
   "source": [
    "import numpy as np\n",
    "import pandas as pd \n",
    "import matplotlib.pyplot as plt\n",
    "\n",
    "df=pd.read_csv('mnist_train.csv')\n",
    "#Train-Test Split \n",
    "x=df.iloc[:, 1:]\n",
    "y=df.iloc[:, 0]\n",
    "x_train, x_test, y_train, y_test=train_test_split(x, y, test_size=0.2, random_state=42)\n",
    "\n",
    "#1)Step: Standardrization\n",
    "from sklearn.preprocessing import StandardScaler\n",
    "scaler=StandardScaler()\n",
    "x_train_trf=scaler.fit_transform(x_train)\n",
    "x_test_trf=scaler.transform(x_test)\n",
    "\n",
    "#2)Step:apply PCA-this will create EVs and EVc\n",
    "from sklearn.decomposition import PCA\n",
    "pca=PCA() \n",
    "x_train_trf=pca.fit_transform(x_train_trf)\n",
    "x_test_trf=pca.transform(x_test_trf)\n",
    "\n",
    "# Explained variance ratio for each component\n",
    "explained_variance = pca.explained_variance_ratio_\n",
    "\n",
    "# Plot cumulative explained variance\n",
    "plt.figure(figsize=(4,3))\n",
    "plt.plot(np.cumsum(explained_variance))\n",
    "plt.xlabel('Nos of PCs')\n",
    "plt.ylabel('Cumulative Explained Variance')\n",
    "plt.grid(True)\n",
    "plt.show()\n"
   ]
  }
 ],
 "metadata": {
  "kernelspec": {
   "display_name": "Python 3",
   "language": "python",
   "name": "python3"
  },
  "language_info": {
   "codemirror_mode": {
    "name": "ipython",
    "version": 3
   },
   "file_extension": ".py",
   "mimetype": "text/x-python",
   "name": "python",
   "nbconvert_exporter": "python",
   "pygments_lexer": "ipython3",
   "version": "3.12.2"
  }
 },
 "nbformat": 4,
 "nbformat_minor": 2
}
